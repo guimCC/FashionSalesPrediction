{
 "cells": [
  {
   "cell_type": "code",
   "execution_count": 2,
   "metadata": {},
   "outputs": [],
   "source": [
    "from PIL import Image\n",
    "from transformers import CLIPProcessor, CLIPModel\n",
    "import pandas as pd\n",
    "import os\n",
    "import torch\n",
    "from tqdm import tqdm\n",
    "from pathlib import Path"
   ]
  },
  {
   "cell_type": "markdown",
   "metadata": {},
   "source": [
    "Loading dataset"
   ]
  },
  {
   "cell_type": "code",
   "execution_count": null,
   "metadata": {},
   "outputs": [],
   "source": [
    "path = \"\" # DATASET PATH\n",
    "IMAGES_PATH = path + '/images'\n",
    "# Load sales data\n",
    "train_df = pd.read_csv(Path(path + '/train.csv'), parse_dates=['release_date'])\n",
    "test_df = pd.read_csv(Path(path + '/test.csv'), parse_dates=['release_date'])"
   ]
  },
  {
   "cell_type": "markdown",
   "metadata": {},
   "source": [
    "Load Clip"
   ]
  },
  {
   "cell_type": "code",
   "execution_count": 4,
   "metadata": {},
   "outputs": [],
   "source": [
    "model = CLIPModel.from_pretrained(\"patrickjohncyh/fashion-clip\").to(\"cuda\")\n",
    "processor = CLIPProcessor.from_pretrained(\"patrickjohncyh/fashion-clip\")"
   ]
  },
  {
   "cell_type": "code",
   "execution_count": 6,
   "metadata": {},
   "outputs": [],
   "source": [
    "def load_imagePath_2_PIL(img_path):\n",
    "    return Image.open(f\"{IMAGES_PATH}/{img_path}\")"
   ]
  },
  {
   "cell_type": "code",
   "execution_count": 7,
   "metadata": {},
   "outputs": [],
   "source": [
    "embeddings_file = \"image_embeddings.pt\""
   ]
  },
  {
   "cell_type": "markdown",
   "metadata": {},
   "source": [
    "Store embeddings"
   ]
  },
  {
   "cell_type": "code",
   "execution_count": 11,
   "metadata": {},
   "outputs": [
    {
     "name": "stderr",
     "output_type": "stream",
     "text": [
      "100%|██████████| 5080/5080 [01:33<00:00, 54.46it/s]\n"
     ]
    },
    {
     "name": "stdout",
     "output_type": "stream",
     "text": [
      "Embeddings saved to image_embeddings.pt\n"
     ]
    }
   ],
   "source": [
    "embeddings = {}\n",
    "with torch.no_grad():  # Disable gradient calculation for inference\n",
    "    for img_name in tqdm(train_df['image_path']):\n",
    "        img_path = f\"{IMAGES_PATH}/{img_name}\"\n",
    "        try:\n",
    "            image = Image.open(img_path)\n",
    "        except:\n",
    "            print(f\"Error opening image {img_path}\")\n",
    "\n",
    "        # Preprocess the image with the FASHION-CLIP processor\n",
    "        inputs = processor(images=image, return_tensors=\"pt\", padding=True).to(\"cuda\")\n",
    "        \n",
    "        # Get image embeddings\n",
    "        image_features = model.get_image_features(**inputs)\n",
    "        image_features = image_features.squeeze().cpu()\n",
    "\n",
    "        # Store embeddings in a dictionary\n",
    "        embeddings[img_name] = image_features\n",
    "\n",
    "# Save embeddings to a file\n",
    "torch.save(embeddings, embeddings_file)\n",
    "print(f\"Embeddings saved to {embeddings_file}\")"
   ]
  },
  {
   "cell_type": "code",
   "execution_count": 13,
   "metadata": {},
   "outputs": [
    {
     "name": "stderr",
     "output_type": "stream",
     "text": [
      "100%|██████████| 497/497 [00:11<00:00, 42.85it/s]"
     ]
    },
    {
     "name": "stdout",
     "output_type": "stream",
     "text": [
      "Embeddings saved to image_embeddings_test.pt\n"
     ]
    },
    {
     "name": "stderr",
     "output_type": "stream",
     "text": [
      "\n"
     ]
    }
   ],
   "source": [
    "embeddings_file = \"image_embeddings_test.pt\"\n",
    "\n",
    "embeddings_test = {}\n",
    "with torch.no_grad():  # Disable gradient calculation for inference\n",
    "    for img_name in tqdm(test_df['image_path']):\n",
    "        img_path = f\"{IMAGES_PATH}/{img_name}\"\n",
    "        try:\n",
    "            image = Image.open(img_path)\n",
    "        except:\n",
    "            print(f\"Error opening image {img_path}\")\n",
    "\n",
    "        # Preprocess the image\n",
    "        inputs = processor(images=image, return_tensors=\"pt\", padding=True).to(\"cuda\")\n",
    "        \n",
    "        # Get image embeddings\n",
    "        image_features = model.get_image_features(**inputs)\n",
    "        image_features = image_features.squeeze().cpu()  # Convert to a 1D tensor and move to CPU\n",
    "\n",
    "        # Store embeddings in a dictionary\n",
    "        embeddings_test[img_name] = image_features\n",
    "\n",
    "torch.save(embeddings_test, embeddings_file)\n",
    "print(f\"Embeddings saved to {embeddings_file}\")"
   ]
  }
 ],
 "metadata": {
  "kernelspec": {
   "display_name": "datascience",
   "language": "python",
   "name": "python3"
  },
  "language_info": {
   "codemirror_mode": {
    "name": "ipython",
    "version": 3
   },
   "file_extension": ".py",
   "mimetype": "text/x-python",
   "name": "python",
   "nbconvert_exporter": "python",
   "pygments_lexer": "ipython3",
   "version": "3.12.2"
  }
 },
 "nbformat": 4,
 "nbformat_minor": 2
}
